{
 "cells": [
  {
   "cell_type": "code",
   "execution_count": 1,
   "metadata": {},
   "outputs": [],
   "source": [
    "from datasets.dataset import Dataset\n",
    "from datasets.domain import Domain\n",
    "import os\n",
    "from Util.qm import QueryManager\n",
    "import argparse\n",
    "import numpy as np\n",
    "import time\n",
    "import pandas as pd\n",
    "import multiprocessing as mp\n",
    "from Util import oracle, util2, benchmarks\n",
    "from tqdm import tqdm\n",
    "from hyperparameter_search import fem_grid_search\n",
    "import matplotlib.pyplot as plt\n",
    "from fem import get_iters\n",
    "import itertools\n",
    "import fem"
   ]
  },
  {
   "cell_type": "code",
   "execution_count": 2,
   "metadata": {},
   "outputs": [
    {
     "name": "stdout",
     "output_type": "stream",
     "text": [
      "[ 0.1  0.2  0.3  0.4  0.5  0.6  0.7  0.8  0.9  1.   1.1  1.2  1.3  1.4\n",
      "  1.5  1.6  1.7  1.8  1.9  2.   2.1  2.2  2.3  2.4  2.5  2.6  2.7  2.8\n",
      "  2.9  3.   3.1  3.2  3.3  3.4  3.5  3.6  3.7  3.8  3.9  4.   4.1  4.2\n",
      "  4.3  4.4  4.5  4.6  4.7  4.8  4.9  5.   5.1  5.2  5.3  5.4  5.5  5.6\n",
      "  5.7  5.8  5.9  6.   6.1  6.2  6.3  6.4  6.5  6.6  6.7  6.8  6.9  7.\n",
      "  7.1  7.2  7.3  7.4  7.5  7.6  7.7  7.8  7.9  8.   8.1  8.2  8.3  8.4\n",
      "  8.5  8.6  8.7  8.8  8.9  9.   9.1  9.2  9.3  9.4  9.5  9.6  9.7  9.8\n",
      "  9.9 10. ]\n"
     ]
    },
    {
     "data": {
      "image/png": "[encoded data removed]",
      "text/plain": [
       "<Figure size 432x288 with 3 Axes>"
      ]
     },
     "metadata": {
      "needs_background": "light"
     },
     "output_type": "display_data"
    }
   ],
   "source": [
    "delta=0.000001\n",
    "eps_list = np.arange(1, 101)/10\n",
    "print(eps_list)\n",
    "iters = []\n",
    "iters_adv_comp = []\n",
    "eps_0 = []\n",
    "for e in eps_list:\n",
    "    t, e0 = get_iters(e, delta, c=0.006)\n",
    "    iters.append(t)\n",
    "    eps_0.append(e0)\n",
    "    t2 = util2.get_rounds(e, e0, delta)\n",
    "    iters_adv_comp.append(t2)\n",
    "    \n",
    "\n",
    "plt.subplot(3,1,1)\n",
    "plt.title('iters')\n",
    "plt.plot(eps_list, iters, '-', c='k')\n",
    "plt.title('iters adv comp')\n",
    "plt.subplot(3,1,2)\n",
    "plt.plot(eps_list, iters, '-', c='k')\n",
    "\n",
    "\n",
    "plt.subplot(3,1,3)\n",
    "plt.title('eps 0')\n",
    "plt.plot(eps_list, eps_0, '-', c='k')\n",
    "plt.show()\n"
   ]
  },
  {
   "cell_type": "code",
   "execution_count": 3,
   "metadata": {
    "pycharm": {
     "name": "#%%\n"
    }
   },
   "outputs": [
    {
     "name": "stdout",
     "output_type": "stream",
     "text": [
      "Number of queries =  219189\n"
     ]
    }
   ],
   "source": [
    "dataset = 'adult'\n",
    "workload = 32\n",
    "marginal = 3\n",
    " ######################################################\n",
    "## Get dataset\n",
    "######################################################\n",
    "data, workloads = benchmarks.randomKway(dataset, workload, marginal)\n",
    "N = data.df.shape[0]\n",
    "delta = 1.0 / N ** 2\n",
    "\n",
    "######################################################\n",
    "## Get Queries\n",
    "######################################################\n",
    "stime = time.time()\n",
    "query_manager = QueryManager(data.domain, workloads)\n",
    "print(\"Number of queries = \", len(query_manager.queries))\n",
    "\n",
    "real_ans = query_manager.get_answer(data)\n"
   ]
  },
  {
   "cell_type": "code",
   "execution_count": 4,
   "metadata": {},
   "outputs": [],
   "source": [
    "def grid_search_min(f, X, Y, n_ave=3):\n",
    "    progress = tqdm(total=len(eps_split_grid)*len(noise_mult_grid)*n_ave)\n",
    "\n",
    "    min_value = 1\n",
    "    best_x = None\n",
    "    best_y = None\n",
    "    all_values = {}\n",
    "    for x, y in itertools.product(X, Y):\n",
    "        values = []\n",
    "        runtime = []\n",
    "        for _ in range(n_ave):\n",
    "            start_time = time.time()\n",
    "            value = f(x, y)\n",
    "            elapsed_time = time.time() - start_time\n",
    "            runtime.append(elapsed_time)\n",
    "            \n",
    "            values.append(value)\n",
    "            # Update\n",
    "            \n",
    "        if np.mean(values) < min_value:\n",
    "            min_value = np.mean(values)\n",
    "            best_x = x\n",
    "            best_y = y\n",
    "        all_values[(x,y)] = np.mean(values)\n",
    "        \n",
    "        progress.update()\n",
    "        progress.set_postfix({'value': value, 'min-value':min_value})\n",
    "\n",
    "    return min_value, all_values, best_x, best_y\n",
    "\n",
    "\n",
    "    "
   ]
  },
  {
   "cell_type": "code",
   "execution_count": 5,
   "metadata": {
    "pycharm": {
     "name": "#%%\n"
    }
   },
   "outputs": [
    {
     "name": "stderr",
     "output_type": "stream",
     "text": [
      " 33%|███▎      | 30/90 [31:05<19:15, 19.25s/it, value=0.142, min-value=0.14]    \n",
      "  0%|          | 0/90 [00:00<?, ?it/s]\u001b[A\n",
      "  1%|          | 1/90 [26:01<38:36:45, 1561.86s/it]\u001b[A\n",
      "  1%|          | 1/90 [26:01<38:36:45, 1561.86s/it, value=0.103, min-value=0.1]\u001b[A\n",
      "  2%|▏         | 2/90 [54:02<39:02:56, 1597.46s/it, value=0.103, min-value=0.1]\u001b[A\n",
      "  2%|▏         | 2/90 [54:02<39:02:56, 1597.46s/it, value=0.126, min-value=0.1]\u001b[A\n",
      "  3%|▎         | 3/90 [1:20:42<38:37:28, 1598.26s/it, value=0.126, min-value=0.1]\u001b[A\n",
      "  3%|▎         | 3/90 [1:20:42<38:37:28, 1598.26s/it, value=0.101, min-value=0.1]\u001b[A\n",
      "  4%|▍         | 4/90 [1:45:54<37:33:40, 1572.33s/it, value=0.101, min-value=0.1]\u001b[A\n",
      "  4%|▍         | 4/90 [1:45:54<37:33:40, 1572.33s/it, value=0.0977, min-value=0.098]\u001b[A\n",
      "  6%|▌         | 5/90 [2:11:49<37:00:03, 1567.10s/it, value=0.0977, min-value=0.098]\u001b[A\n",
      "  6%|▌         | 5/90 [2:11:49<37:00:03, 1567.10s/it, value=0.101, min-value=0.0976]\u001b[A\n",
      "  7%|▋         | 6/90 [2:25:58<31:32:24, 1351.71s/it, value=0.101, min-value=0.0976]\u001b[A\n",
      "  7%|▋         | 6/90 [2:25:58<31:32:24, 1351.71s/it, value=0.105, min-value=0.0976]\u001b[A\n",
      "  8%|▊         | 7/90 [2:39:41<27:30:31, 1193.15s/it, value=0.105, min-value=0.0976]\u001b[A\n",
      "  8%|▊         | 7/90 [2:39:41<27:30:31, 1193.15s/it, value=0.102, min-value=0.0976]\u001b[A\n",
      "  9%|▉         | 8/90 [2:54:48<25:13:19, 1107.31s/it, value=0.102, min-value=0.0976]\u001b[A\n",
      "  9%|▉         | 8/90 [2:54:48<25:13:19, 1107.31s/it, value=0.1, min-value=0.0976]  \u001b[AProcess Process-132951:\n",
      "Process Process-132954:\n",
      "Process Process-132953:\n",
      "Process Process-132956:\n",
      "Process Process-132955:\n",
      "Process Process-132952:\n",
      "Traceback (most recent call last):\n",
      "Traceback (most recent call last):\n",
      "Traceback (most recent call last):\n"
     ]
    }
   ],
   "source": [
    "epsilon_arr = [0.1, 0.5]\n",
    "best_params = {}\n",
    "eps_split_grid = np.array([5, 6, 7, 8, 9, 10])/1000\n",
    "noise_mult_grid= [0.1, 0.12, 0.14, 0.16, 0.18]\n",
    "\n",
    "\n",
    "# eps_split_grid = np.array([6, 9])/1000\n",
    "# # noise_mult_grid=[0.03, 0.04, 0.05, 0.06, 0.07]\n",
    "# noise_mult_grid=[ 0.1, 0.18]\n",
    "\n",
    "\n",
    "results = {}\n",
    "for epsilon in epsilon_arr:\n",
    "    # optimization function\n",
    "    def get_fem_error(eps0, noise):\n",
    "        syndata = fem.generate(real_answers=real_ans,\n",
    "                                            N=N,\n",
    "                                            domain=data.domain,\n",
    "                                            query_manager=query_manager,\n",
    "                                            epsilon=epsilon,\n",
    "                                            delta=delta,\n",
    "                                            epsilon_split=eps0,\n",
    "                                            noise_multiple=noise,\n",
    "                                            samples=20,\n",
    "                                            show_prgress=False)\n",
    "\n",
    "        return np.abs(real_ans - query_manager.get_answer(syndata)).max()\n",
    "\n",
    "    min_maxerror, all_errors, best_eps, best_noise = grid_search_min(get_fem_error, eps_split_grid, noise_mult_grid)\n",
    "    \n",
    "    best_params[epsilon] = (best_eps, best_noise)\n",
    "    results[epsilon] = all_errors\n",
    "    print(f'min maxerror = {min_maxerror} best_eps_split = {best_eps} best_noise_mult = {best_noise}')\n"
   ]
  },
  {
   "cell_type": "code",
   "execution_count": null,
   "metadata": {
    "pycharm": {
     "name": "#%%\n"
    }
   },
   "outputs": [],
   "source": [
    "circle_size = 10000\n",
    "\n",
    "fig, ax = plt.subplots(1, len(epsilon_arr), sharey=True)\n",
    "print(ax)\n",
    "for k, epsilon in enumerate(epsilon_arr):\n",
    "#     plt.subplot(1, len(epsilon_arr), i+1)\n",
    "    # print(best_params)\n",
    "    grid = np.meshgrid(eps_split_grid, noise_mult_grid)\n",
    "    ax[k].set_title(f'epsilon ={epsilon}')\n",
    "    ax[k].plot(grid[0], grid[1], marker='.', color='k', linestyle='none')\n",
    "    ax[k].set_xlabel('eps split')\n",
    "    ax[k].set_ylabel('noise mult')\n",
    "    print(f'epsilon = {epsilon}')\n",
    "    for i, eps_0 in enumerate(eps_split_grid):\n",
    "        for j, noise in enumerate(noise_mult_grid):\n",
    "            error =  results[epsilon][(eps_0, noise)]\n",
    "#             plt.scatter(eps_0, noise, circle_size * error, edgecolors='black', linewidths=1, facecolor='white')\n",
    "            print(error)\n",
    "            ax[k].annotate(f'{int(1000*error)}', (eps_0 , noise))\n",
    "            \n",
    "    b_eps, b_noise = best_params[epsilon]\n",
    "    best_error = results[epsilon][(b_eps, b_noise)]\n",
    "    ax[k].scatter(b_eps, b_noise, circle_size * best_error, edgecolors='black', linewidths=2, facecolor='yellow')\n",
    "#     plt.ylim([0, np.max(noise_mult_grid) ])\n",
    "#     plt.xlim([0, np.max(eps_split_grid) ])\n",
    "    ax[k].grid(linestyle='--')\n",
    "    ax[k].spines[\"right\"].set_visible(False)\n",
    "    ax[k].spines[\"left\"].set_visible(False)\n",
    "    \n",
    "plt.show()"
   ]
  },
  {
   "cell_type": "code",
   "execution_count": null,
   "metadata": {
    "pycharm": {
     "name": "#%%\n"
    }
   },
   "outputs": [],
   "source": [
    "print(results[0.1])\n",
    "# print(best_params)\n"
   ]
  },
  {
   "cell_type": "code",
   "execution_count": null,
   "metadata": {},
   "outputs": [],
   "source": [
    "print(results[0.5])"
   ]
  },
  {
   "cell_type": "code",
   "execution_count": null,
   "metadata": {},
   "outputs": [],
   "source": []
  }
 ],
 "metadata": {
  "kernelspec": {
   "display_name": "Python 3",
   "language": "python",
   "name": "python3"
  },
  "language_info": {
   "codemirror_mode": {
    "name": "ipython",
    "version": 3
   },
   "file_extension": ".py",
   "mimetype": "text/x-python",
   "name": "python",
   "nbconvert_exporter": "python",
   "pygments_lexer": "ipython3",
   "version": "3.7.6"
  }
 },
 "nbformat": 4,
 "nbformat_minor": 1
}
