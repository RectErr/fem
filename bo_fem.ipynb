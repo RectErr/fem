{
 "cells": [
  {
   "cell_type": "code",
   "execution_count": 1,
   "metadata": {},
   "outputs": [],
   "source": [
    "import numpy as np\n",
    "import pandas as pd\n",
    "import matplotlib.pyplot as plt\n",
    "\n",
    "import seaborn as sns\n",
    "import itertools\n",
    "sns.set(style=\"whitegrid\", font_scale=1.5)\n",
    "import sys\n",
    "# sys.path.append(\"../\")\n",
    "\n",
    "import benchmarks\n",
    "from qm import QueryManager\n",
    "import argparse\n",
    "\n",
    "import time\n",
    "\n",
    "\n",
    "from opt_2D import optimize\n",
    "\n",
    "\n"
   ]
  },
  {
   "cell_type": "code",
   "execution_count": 2,
   "metadata": {},
   "outputs": [],
   "source": [
    "dataset = 'adult'\n",
    "workload = 64\n",
    "marginal = 3\n",
    "epsilon=0.25\n",
    "max_iter = 50"
   ]
  },
  {
   "cell_type": "code",
   "execution_count": 3,
   "metadata": {},
   "outputs": [],
   "source": [
    "data, workloads = benchmarks.randomKway(dataset, workload, marginal)\n",
    "N = data.df.shape[0]\n",
    "stime = time.time()\n",
    "query_manager = QueryManager(data.domain, workloads)"
   ]
  },
  {
   "cell_type": "code",
   "execution_count": null,
   "metadata": {},
   "outputs": [
    {
     "name": "stdout",
     "output_type": "stream",
     "text": [
      "eps0 =  0.02045466836966853\n",
      "noise =  0.8198587605525056\n"
     ]
    },
    {
     "name": "stderr",
     "output_type": "stream",
     "text": [
      "100%|██████████| 3/3 [00:02<00:00,  1.42it/s]\n",
      " 63%|██████▎   | 61/97 [03:07<01:50,  3.07s/it]\n",
      " 36%|███▋      | 20/55 [00:20<00:51,  1.47s/it]"
     ]
    }
   ],
   "source": [
    "opt =  optimize(data=data,\n",
    "                     query_manager=query_manager,\n",
    "                     epsilon=epsilon,\n",
    "                     samples=200,\n",
    "                     max_iter=max_iter,\n",
    "                     timeout=300,\n",
    "                     show_plot=False)"
   ]
  },
  {
   "cell_type": "code",
   "execution_count": null,
   "metadata": {},
   "outputs": [],
   "source": []
  }
 ],
 "metadata": {
  "kernelspec": {
   "display_name": "Python 3",
   "language": "python",
   "name": "python3"
  },
  "language_info": {
   "codemirror_mode": {
    "name": "ipython",
    "version": 3
   },
   "file_extension": ".py",
   "mimetype": "text/x-python",
   "name": "python",
   "nbconvert_exporter": "python",
   "pygments_lexer": "ipython3",
   "version": "3.7.6"
  }
 },
 "nbformat": 4,
 "nbformat_minor": 1
}
